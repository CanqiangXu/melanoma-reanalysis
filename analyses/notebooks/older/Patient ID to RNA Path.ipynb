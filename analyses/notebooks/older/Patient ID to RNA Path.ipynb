{
 "cells": [
  {
   "cell_type": "code",
   "execution_count": 1,
   "metadata": {
    "collapsed": true
   },
   "outputs": [],
   "source": [
    "%load_ext autoreload\n",
    "%autoreload 2\n",
    "\n",
    "import sys \n",
    "from os import getcwd, path, environ\n",
    "sys.path.append(path.dirname(getcwd()))\n",
    "import matplotlib.pyplot as plt\n",
    "import seaborn as sb\n",
    "import pandas as pd\n",
    "%matplotlib inline"
   ]
  },
  {
   "cell_type": "code",
   "execution_count": 2,
   "metadata": {
    "collapsed": true
   },
   "outputs": [],
   "source": [
    "from utils import data\n",
    "from utils.functions import *\n",
    "from cohorts.rounding import float_str"
   ]
  },
  {
   "cell_type": "code",
   "execution_count": 3,
   "metadata": {
    "collapsed": false
   },
   "outputs": [
    {
     "name": "stdout",
     "output_type": "stream",
     "text": [
      "{'dataframe_hash': -1756190467427032844,\n",
      " 'provenance_file_summary': {u'cohorts': u'0.4.2+1.g1b8048a.dirty',\n",
      "                             u'isovar': u'0.0.6',\n",
      "                             u'mhctools': u'0.4.0',\n",
      "                             u'numpy': u'1.11.2',\n",
      "                             u'pandas': u'0.19.1',\n",
      "                             u'pyensembl': u'1.0.3',\n",
      "                             u'scipy': u'0.18.1',\n",
      "                             u'topiary': u'0.1.0',\n",
      "                             u'varcode': u'0.5.10'}}\n"
     ]
    },
    {
     "name": "stderr",
     "output_type": "stream",
     "text": [
      "/home/tavi/cohorts/cohorts/provenance.py:65: Warning: In current but not comparison: [u'cohorts==0.4.2+4.g557e83e.dirty']In comparison but not current: [u'cohorts==0.4.2+1.g1b8048a.dirty']\n",
      "  warnings.warn(warn_str, Warning)\n"
     ]
    }
   ],
   "source": [
    "cohort = data.init_cohort()"
   ]
  },
  {
   "cell_type": "code",
   "execution_count": 4,
   "metadata": {
    "collapsed": false
   },
   "outputs": [
    {
     "data": {
      "text/plain": [
       "64"
      ]
     },
     "execution_count": 4,
     "metadata": {},
     "output_type": "execute_result"
    }
   ],
   "source": [
    "len(cohort)"
   ]
  },
  {
   "cell_type": "code",
   "execution_count": 5,
   "metadata": {
    "collapsed": false
   },
   "outputs": [],
   "source": [
    "df_dict = {\"patient_id\": [], \"path\": []}\n",
    "for patient in cohort:\n",
    "    if patient.tumor_sample is not None:\n",
    "        df_dict[\"patient_id\"].append(patient.id)\n",
    "        df_dict[\"path\"].append(patient.tumor_sample.bam_path_rna.split(\"bams/\")[1].split(\"/Sample\")[0])"
   ]
  },
  {
   "cell_type": "code",
   "execution_count": 6,
   "metadata": {
    "collapsed": true
   },
   "outputs": [],
   "source": [
    "df = pd.DataFrame(df_dict, dtype=\"object\")"
   ]
  },
  {
   "cell_type": "code",
   "execution_count": 7,
   "metadata": {
    "collapsed": false
   },
   "outputs": [],
   "source": [
    "df.to_csv(\"id_to_rna_path.csv\", index=None)"
   ]
  },
  {
   "cell_type": "code",
   "execution_count": 8,
   "metadata": {
    "collapsed": true
   },
   "outputs": [],
   "source": [
    "gcp_contents = \"\"\"gs://melanoma-cir-rna-bams/Sample_SK_MEL_301T-Sample_SK_MEL_301T/\n",
    "gs://melanoma-cir-rna-bams/Sample_SK_MEL_311AT-Sample_SK_MEL_311AT/\n",
    "gs://melanoma-cir-rna-bams/Sample_SK_MEL_321AT-Sample_SK_MEL_321AT/\n",
    "gs://melanoma-cir-rna-bams/Sample_SK_MEL_337T-Sample_SK_MEL_337T/\n",
    "gs://melanoma-cir-rna-bams/Sample_SK_MEL_351T-Sample_SK_MEL_351T/\n",
    "gs://melanoma-cir-rna-bams/Sample_SK_MEL_363T-Sample_SK_MEL_363T/\n",
    "gs://melanoma-cir-rna-bams/Sample_SK_MEL_381T-Sample_SK_MEL_381T/\n",
    "gs://melanoma-cir-rna-bams/Sample_SK_MEL_389-Sample_SK_MEL_389/\n",
    "gs://melanoma-cir-rna-bams/Sample_SK_MEL_394T-Sample_SK_MEL_394T/\n",
    "gs://melanoma-cir-rna-bams/Sample_SK_MEL_398T-Sample_SK_MEL_398T/\n",
    "gs://melanoma-cir-rna-bams/Sample_SK_MEL_430T-Sample_SK_MEL_430T/\n",
    "gs://melanoma-cir-rna-bams/Sample_SK_MEL_432T-Sample_SK_MEL_432T/\n",
    "gs://melanoma-cir-rna-bams/Sample_SK_MEL_445T-Sample_SK_MEL_445T/\n",
    "gs://melanoma-cir-rna-bams/Sample_SK_MEL_455T-Sample_SK_MEL_455T/\n",
    "gs://melanoma-cir-rna-bams/Sample_SK_MEL_496T-Sample_SK_MEL_496T/\n",
    "gs://melanoma-cir-rna-bams/Sample_SK_MEL_499-Sample_SK_MEL_499/\n",
    "gs://melanoma-cir-rna-bams/Sample_SK_MEL_526T-Sample_SK_MEL_526T/\n",
    "gs://melanoma-cir-rna-bams/Sample_SK_MEL_539T-Sample_SK_MEL_539T/\n",
    "gs://melanoma-cir-rna-bams/Sample_SK_MEL_540-Sample_SK_MEL_540/\n",
    "gs://melanoma-cir-rna-bams/Sample_SK_MEL_545T-Sample_SK_MEL_545T/\n",
    "gs://melanoma-cir-rna-bams/Sample_SK_MEL_551AT-Sample_SK_MEL_551AT/\n",
    "gs://melanoma-cir-rna-bams/Sample_SK_MEL_560_1T-Sample_SK_MEL_560_1T/\n",
    "gs://melanoma-cir-rna-bams/Sample_SK_MEL_560_2T-Sample_SK_MEL_560_2T/\n",
    "gs://melanoma-cir-rna-bams/Sample_SK_MEL_566_1-Sample_SK_MEL_566_1/\n",
    "gs://melanoma-cir-rna-bams/Sample_SK_MEL_574-Sample_SK_MEL_574/\n",
    "gs://melanoma-cir-rna-bams/Sample_SK_MEL_581_1T-Sample_SK_MEL_581_1T/\n",
    "gs://melanoma-cir-rna-bams/Sample_SK_MEL_581_2T-Sample_SK_MEL_581_2T/\n",
    "gs://melanoma-cir-rna-bams/Sample_SK_MEL_598_1T-Sample_SK_MEL_598_1T/\n",
    "gs://melanoma-cir-rna-bams/Sample_SK_MEL_598_2T-Sample_SK_MEL_598_2T/\n",
    "gs://melanoma-cir-rna-bams/Sample_SK_MEL_641_1-Sample_SK_MEL_641_1/\"\"\""
   ]
  },
  {
   "cell_type": "code",
   "execution_count": 9,
   "metadata": {
    "collapsed": false
   },
   "outputs": [],
   "source": [
    "gcp_paths = gcp_contents.split(\"\\n\")\n",
    "gcp_paths = [gcp_path.split(\"bams/\")[1].split(\"/\")[0] for gcp_path in gcp_paths]"
   ]
  },
  {
   "cell_type": "code",
   "execution_count": 10,
   "metadata": {
    "collapsed": false
   },
   "outputs": [
    {
     "data": {
      "text/plain": [
       "30"
      ]
     },
     "execution_count": 10,
     "metadata": {},
     "output_type": "execute_result"
    }
   ],
   "source": [
    "len(gcp_paths)"
   ]
  },
  {
   "cell_type": "code",
   "execution_count": 11,
   "metadata": {
    "collapsed": false
   },
   "outputs": [],
   "source": [
    "to_delete = set(gcp_paths).difference(set(df.path.unique()))"
   ]
  },
  {
   "cell_type": "code",
   "execution_count": 12,
   "metadata": {
    "collapsed": true
   },
   "outputs": [],
   "source": [
    "# Remove these from BAMs we give to others"
   ]
  },
  {
   "cell_type": "code",
   "execution_count": 13,
   "metadata": {
    "collapsed": false
   },
   "outputs": [
    {
     "data": {
      "text/plain": [
       "{'Sample_SK_MEL_432T-Sample_SK_MEL_432T',\n",
       " 'Sample_SK_MEL_496T-Sample_SK_MEL_496T',\n",
       " 'Sample_SK_MEL_545T-Sample_SK_MEL_545T',\n",
       " 'Sample_SK_MEL_560_1T-Sample_SK_MEL_560_1T',\n",
       " 'Sample_SK_MEL_581_2T-Sample_SK_MEL_581_2T',\n",
       " 'Sample_SK_MEL_598_2T-Sample_SK_MEL_598_2T'}"
      ]
     },
     "execution_count": 13,
     "metadata": {},
     "output_type": "execute_result"
    }
   ],
   "source": [
    "to_delete"
   ]
  },
  {
   "cell_type": "code",
   "execution_count": 14,
   "metadata": {
    "collapsed": false
   },
   "outputs": [
    {
     "name": "stdout",
     "output_type": "stream",
     "text": [
      "gsutil -m rm -rf gs://melanoma-cir-rna-bams/Sample_SK_MEL_598_2T-Sample_SK_MEL_598_2T\n",
      "gsutil -m rm -rf gs://melanoma-cir-rna-bams/Sample_SK_MEL_545T-Sample_SK_MEL_545T\n",
      "gsutil -m rm -rf gs://melanoma-cir-rna-bams/Sample_SK_MEL_581_2T-Sample_SK_MEL_581_2T\n",
      "gsutil -m rm -rf gs://melanoma-cir-rna-bams/Sample_SK_MEL_432T-Sample_SK_MEL_432T\n",
      "gsutil -m rm -rf gs://melanoma-cir-rna-bams/Sample_SK_MEL_496T-Sample_SK_MEL_496T\n",
      "gsutil -m rm -rf gs://melanoma-cir-rna-bams/Sample_SK_MEL_560_1T-Sample_SK_MEL_560_1T\n"
     ]
    }
   ],
   "source": [
    "for filename in to_delete:\n",
    "    print(\"gsutil -m rm -rf gs://melanoma-cir-rna-bams/%s\" % filename)"
   ]
  },
  {
   "cell_type": "code",
   "execution_count": null,
   "metadata": {
    "collapsed": true
   },
   "outputs": [],
   "source": []
  }
 ],
 "metadata": {
  "kernelspec": {
   "display_name": "Python 2",
   "language": "python",
   "name": "python2"
  },
  "language_info": {
   "codemirror_mode": {
    "name": "ipython",
    "version": 2
   },
   "file_extension": ".py",
   "mimetype": "text/x-python",
   "name": "python",
   "nbconvert_exporter": "python",
   "pygments_lexer": "ipython2",
   "version": "2.7.11"
  }
 },
 "nbformat": 4,
 "nbformat_minor": 1
}

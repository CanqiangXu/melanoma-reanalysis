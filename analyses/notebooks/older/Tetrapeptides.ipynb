{
 "cells": [
  {
   "cell_type": "code",
   "execution_count": 1,
   "metadata": {
    "collapsed": false
   },
   "outputs": [],
   "source": [
    "%load_ext autoreload\n",
    "%autoreload 2\n",
    "\n",
    "import sys \n",
    "from os import getcwd, path, environ\n",
    "sys.path.append(path.dirname(getcwd()))\n",
    "import matplotlib.pyplot as plt\n",
    "import seaborn as sb\n",
    "import pandas as pd\n",
    "%matplotlib inline"
   ]
  },
  {
   "cell_type": "code",
   "execution_count": 2,
   "metadata": {
    "collapsed": true
   },
   "outputs": [],
   "source": [
    "import logging\n",
    "logging.basicConfig(level=logging.DEBUG)"
   ]
  },
  {
   "cell_type": "code",
   "execution_count": 3,
   "metadata": {
    "collapsed": false
   },
   "outputs": [],
   "source": [
    "from utils import data"
   ]
  },
  {
   "cell_type": "code",
   "execution_count": 4,
   "metadata": {
    "collapsed": false
   },
   "outputs": [
    {
     "name": "stdout",
     "output_type": "stream",
     "text": [
      "{'dataframe_hash': 783790189749858705,\n",
      " 'provenance_file_summary': {u'cohorts': u'0.4.2+1.g1b8048a.dirty',\n",
      "                             u'isovar': u'0.0.6',\n",
      "                             u'mhctools': u'0.4.0',\n",
      "                             u'numpy': u'1.11.2',\n",
      "                             u'pandas': u'0.19.1',\n",
      "                             u'pyensembl': u'1.0.3',\n",
      "                             u'scipy': u'0.18.1',\n",
      "                             u'topiary': u'0.1.0',\n",
      "                             u'varcode': u'0.5.10'}}\n"
     ]
    }
   ],
   "source": [
    "cohort = data.init_cohort(four_callers=False,\n",
    "                          biopsy_time=\"pre\",\n",
    "                          non_discordant=True)"
   ]
  },
  {
   "cell_type": "code",
   "execution_count": 5,
   "metadata": {
    "collapsed": false
   },
   "outputs": [
    {
     "data": {
      "text/plain": [
       "33"
      ]
     },
     "execution_count": 5,
     "metadata": {},
     "output_type": "execute_result"
    }
   ],
   "source": [
    "len(cohort)"
   ]
  },
  {
   "cell_type": "code",
   "execution_count": 6,
   "metadata": {
    "collapsed": true
   },
   "outputs": [],
   "source": [
    "from topeology.iedb_data import get_iedb_epitopes"
   ]
  },
  {
   "cell_type": "code",
   "execution_count": 7,
   "metadata": {
    "collapsed": false,
    "scrolled": true
   },
   "outputs": [],
   "source": [
    "from utils.tetrapeptides import get_tetrapeptides, get_signature_tetrapeptides"
   ]
  },
  {
   "cell_type": "code",
   "execution_count": 8,
   "metadata": {
    "collapsed": false
   },
   "outputs": [
    {
     "name": "stdout",
     "output_type": "stream",
     "text": [
      "Using saved IEDB data at /home/tavi/melanoma-reanalysis/data/iedb_tcell_data_6_10_15.csv\n",
      "Filtering on tuberculosis: 124811 to 124485 elements\n"
     ]
    }
   ],
   "source": [
    "df_kmers = get_tetrapeptides(cohort)"
   ]
  },
  {
   "cell_type": "code",
   "execution_count": 12,
   "metadata": {
    "collapsed": false
   },
   "outputs": [
    {
     "data": {
      "text/plain": [
       "04885    5628\n",
       "4744     3630\n",
       "12117    3084\n",
       "4092     3018\n",
       "4077     2640\n",
       "2137     2130\n",
       "6161     1968\n",
       "1494     1716\n",
       "4880     1698\n",
       "3484     1602\n",
       "4035     1470\n",
       "6126     1392\n",
       "9306     1074\n",
       "3549      996\n",
       "4091      648\n",
       "9445      606\n",
       "4083      516\n",
       "0167      432\n",
       "22640     420\n",
       "6819      402\n",
       "4018      306\n",
       "4046      270\n",
       "2057      258\n",
       "9765      222\n",
       "2056      186\n",
       "3665      180\n",
       "1867       84\n",
       "9341       42\n",
       "2051       18\n",
       "5784       12\n",
       "6842        6\n",
       "8727        1\n",
       "3156        1\n",
       "Name: patient_id, dtype: int64"
      ]
     },
     "execution_count": 12,
     "metadata": {},
     "output_type": "execute_result"
    }
   ],
   "source": [
    "df_kmers.patient_id.value_counts()"
   ]
  },
  {
   "cell_type": "code",
   "execution_count": 13,
   "metadata": {
    "collapsed": false
   },
   "outputs": [],
   "source": [
    "signature = get_signature_tetrapeptides(cohort, df_kmers)"
   ]
  },
  {
   "cell_type": "code",
   "execution_count": 14,
   "metadata": {
    "collapsed": false
   },
   "outputs": [
    {
     "data": {
      "text/plain": [
       "1323"
      ]
     },
     "execution_count": 14,
     "metadata": {},
     "output_type": "execute_result"
    }
   ],
   "source": [
    "len(signature)"
   ]
  },
  {
   "cell_type": "code",
   "execution_count": 45,
   "metadata": {
    "collapsed": true
   },
   "outputs": [],
   "source": [
    "df_neog = cohort.load_neoantigens()"
   ]
  },
  {
   "cell_type": "code",
   "execution_count": 50,
   "metadata": {
    "collapsed": false
   },
   "outputs": [
    {
     "data": {
      "text/html": [
       "<div>\n",
       "<table border=\"1\" class=\"dataframe\">\n",
       "  <thead>\n",
       "    <tr style=\"text-align: right;\">\n",
       "      <th></th>\n",
       "      <th>peptide</th>\n",
       "    </tr>\n",
       "    <tr>\n",
       "      <th>patient_id</th>\n",
       "      <th></th>\n",
       "    </tr>\n",
       "  </thead>\n",
       "  <tbody>\n",
       "    <tr>\n",
       "      <th>0167</th>\n",
       "      <td>NYTLRALCL</td>\n",
       "    </tr>\n",
       "    <tr>\n",
       "      <th>0167</th>\n",
       "      <td>DRRPQILNM</td>\n",
       "    </tr>\n",
       "    <tr>\n",
       "      <th>0167</th>\n",
       "      <td>RTPGQTPGK</td>\n",
       "    </tr>\n",
       "    <tr>\n",
       "      <th>0167</th>\n",
       "      <td>FIKKRYIII</td>\n",
       "    </tr>\n",
       "    <tr>\n",
       "      <th>0167</th>\n",
       "      <td>GSNQSSHQK</td>\n",
       "    </tr>\n",
       "    <tr>\n",
       "      <th>0167</th>\n",
       "      <td>EPTTKFVPV</td>\n",
       "    </tr>\n",
       "    <tr>\n",
       "      <th>0167</th>\n",
       "      <td>SCFSSLALK</td>\n",
       "    </tr>\n",
       "    <tr>\n",
       "      <th>0167</th>\n",
       "      <td>CSGEHASNK</td>\n",
       "    </tr>\n",
       "    <tr>\n",
       "      <th>0167</th>\n",
       "      <td>YLMRKLSCL</td>\n",
       "    </tr>\n",
       "    <tr>\n",
       "      <th>0167</th>\n",
       "      <td>APKKKEAAA</td>\n",
       "    </tr>\n",
       "    <tr>\n",
       "      <th>0167</th>\n",
       "      <td>HPSRKPPSA</td>\n",
       "    </tr>\n",
       "    <tr>\n",
       "      <th>0167</th>\n",
       "      <td>RSYPSSSPM</td>\n",
       "    </tr>\n",
       "    <tr>\n",
       "      <th>0167</th>\n",
       "      <td>TLYRLEQGY</td>\n",
       "    </tr>\n",
       "    <tr>\n",
       "      <th>0167</th>\n",
       "      <td>AAKIKRAAL</td>\n",
       "    </tr>\n",
       "    <tr>\n",
       "      <th>0167</th>\n",
       "      <td>FRTPRPPWV</td>\n",
       "    </tr>\n",
       "    <tr>\n",
       "      <th>0167</th>\n",
       "      <td>IRPNAPYDL</td>\n",
       "    </tr>\n",
       "    <tr>\n",
       "      <th>0167</th>\n",
       "      <td>WRLPEKVKF</td>\n",
       "    </tr>\n",
       "    <tr>\n",
       "      <th>0167</th>\n",
       "      <td>SPGARLLEV</td>\n",
       "    </tr>\n",
       "    <tr>\n",
       "      <th>0167</th>\n",
       "      <td>APSPSAPPT</td>\n",
       "    </tr>\n",
       "    <tr>\n",
       "      <th>0167</th>\n",
       "      <td>NAFDNLCLL</td>\n",
       "    </tr>\n",
       "    <tr>\n",
       "      <th>0167</th>\n",
       "      <td>SLRMENGIK</td>\n",
       "    </tr>\n",
       "    <tr>\n",
       "      <th>0167</th>\n",
       "      <td>RPHLPMSLS</td>\n",
       "    </tr>\n",
       "    <tr>\n",
       "      <th>0167</th>\n",
       "      <td>VFIIRKFLL</td>\n",
       "    </tr>\n",
       "    <tr>\n",
       "      <th>0167</th>\n",
       "      <td>IMFNRVCHL</td>\n",
       "    </tr>\n",
       "    <tr>\n",
       "      <th>0167</th>\n",
       "      <td>NLQVKRPFL</td>\n",
       "    </tr>\n",
       "    <tr>\n",
       "      <th>0167</th>\n",
       "      <td>DHIYREEIL</td>\n",
       "    </tr>\n",
       "    <tr>\n",
       "      <th>0167</th>\n",
       "      <td>SLPNSILMK</td>\n",
       "    </tr>\n",
       "    <tr>\n",
       "      <th>0167</th>\n",
       "      <td>EKLMRRLVL</td>\n",
       "    </tr>\n",
       "    <tr>\n",
       "      <th>0167</th>\n",
       "      <td>LTFSLRLIK</td>\n",
       "    </tr>\n",
       "    <tr>\n",
       "      <th>0167</th>\n",
       "      <td>NLRRQKANK</td>\n",
       "    </tr>\n",
       "    <tr>\n",
       "      <th>...</th>\n",
       "      <td>...</td>\n",
       "    </tr>\n",
       "    <tr>\n",
       "      <th>9765</th>\n",
       "      <td>VASTCSELM</td>\n",
       "    </tr>\n",
       "    <tr>\n",
       "      <th>9765</th>\n",
       "      <td>ESIAEVTKL</td>\n",
       "    </tr>\n",
       "    <tr>\n",
       "      <th>9765</th>\n",
       "      <td>MEAMKAQLL</td>\n",
       "    </tr>\n",
       "    <tr>\n",
       "      <th>9765</th>\n",
       "      <td>YNVINQFVW</td>\n",
       "    </tr>\n",
       "    <tr>\n",
       "      <th>9765</th>\n",
       "      <td>LPLQPRSPV</td>\n",
       "    </tr>\n",
       "    <tr>\n",
       "      <th>9765</th>\n",
       "      <td>ASECPSLRM</td>\n",
       "    </tr>\n",
       "    <tr>\n",
       "      <th>9765</th>\n",
       "      <td>SRHQKKDSL</td>\n",
       "    </tr>\n",
       "    <tr>\n",
       "      <th>9765</th>\n",
       "      <td>YLVQHEQLL</td>\n",
       "    </tr>\n",
       "    <tr>\n",
       "      <th>9765</th>\n",
       "      <td>LTNQLTTKI</td>\n",
       "    </tr>\n",
       "    <tr>\n",
       "      <th>9765</th>\n",
       "      <td>VSHWRVQPL</td>\n",
       "    </tr>\n",
       "    <tr>\n",
       "      <th>9765</th>\n",
       "      <td>LTTHERFIL</td>\n",
       "    </tr>\n",
       "    <tr>\n",
       "      <th>9765</th>\n",
       "      <td>YTTPDIGHY</td>\n",
       "    </tr>\n",
       "    <tr>\n",
       "      <th>9765</th>\n",
       "      <td>IPKPTAAAI</td>\n",
       "    </tr>\n",
       "    <tr>\n",
       "      <th>9765</th>\n",
       "      <td>ITSSVEHDF</td>\n",
       "    </tr>\n",
       "    <tr>\n",
       "      <th>9765</th>\n",
       "      <td>LLISCIFSF</td>\n",
       "    </tr>\n",
       "    <tr>\n",
       "      <th>9765</th>\n",
       "      <td>MAAYDQTQY</td>\n",
       "    </tr>\n",
       "    <tr>\n",
       "      <th>9765</th>\n",
       "      <td>QIMESFLTY</td>\n",
       "    </tr>\n",
       "    <tr>\n",
       "      <th>9765</th>\n",
       "      <td>HAVFALRAW</td>\n",
       "    </tr>\n",
       "    <tr>\n",
       "      <th>9765</th>\n",
       "      <td>ISLFDFVIY</td>\n",
       "    </tr>\n",
       "    <tr>\n",
       "      <th>9765</th>\n",
       "      <td>LTRHWVWQY</td>\n",
       "    </tr>\n",
       "    <tr>\n",
       "      <th>9765</th>\n",
       "      <td>QTYFITLSL</td>\n",
       "    </tr>\n",
       "    <tr>\n",
       "      <th>9765</th>\n",
       "      <td>RRRKFSRTV</td>\n",
       "    </tr>\n",
       "    <tr>\n",
       "      <th>9765</th>\n",
       "      <td>NPRPEKVVI</td>\n",
       "    </tr>\n",
       "    <tr>\n",
       "      <th>9765</th>\n",
       "      <td>KTKRAKRFF</td>\n",
       "    </tr>\n",
       "    <tr>\n",
       "      <th>9765</th>\n",
       "      <td>SPSQMKAFI</td>\n",
       "    </tr>\n",
       "    <tr>\n",
       "      <th>9765</th>\n",
       "      <td>HPRVHTGEW</td>\n",
       "    </tr>\n",
       "    <tr>\n",
       "      <th>9765</th>\n",
       "      <td>KAYLYHLST</td>\n",
       "    </tr>\n",
       "    <tr>\n",
       "      <th>9765</th>\n",
       "      <td>YRTWKLHMM</td>\n",
       "    </tr>\n",
       "    <tr>\n",
       "      <th>9765</th>\n",
       "      <td>HRNLKPENL</td>\n",
       "    </tr>\n",
       "    <tr>\n",
       "      <th>9765</th>\n",
       "      <td>VTRKKPPVI</td>\n",
       "    </tr>\n",
       "  </tbody>\n",
       "</table>\n",
       "<p>6109 rows × 1 columns</p>\n",
       "</div>"
      ],
      "text/plain": [
       "              peptide\n",
       "patient_id           \n",
       "0167        NYTLRALCL\n",
       "0167        DRRPQILNM\n",
       "0167        RTPGQTPGK\n",
       "0167        FIKKRYIII\n",
       "0167        GSNQSSHQK\n",
       "0167        EPTTKFVPV\n",
       "0167        SCFSSLALK\n",
       "0167        CSGEHASNK\n",
       "0167        YLMRKLSCL\n",
       "0167        APKKKEAAA\n",
       "0167        HPSRKPPSA\n",
       "0167        RSYPSSSPM\n",
       "0167        TLYRLEQGY\n",
       "0167        AAKIKRAAL\n",
       "0167        FRTPRPPWV\n",
       "0167        IRPNAPYDL\n",
       "0167        WRLPEKVKF\n",
       "0167        SPGARLLEV\n",
       "0167        APSPSAPPT\n",
       "0167        NAFDNLCLL\n",
       "0167        SLRMENGIK\n",
       "0167        RPHLPMSLS\n",
       "0167        VFIIRKFLL\n",
       "0167        IMFNRVCHL\n",
       "0167        NLQVKRPFL\n",
       "0167        DHIYREEIL\n",
       "0167        SLPNSILMK\n",
       "0167        EKLMRRLVL\n",
       "0167        LTFSLRLIK\n",
       "0167        NLRRQKANK\n",
       "...               ...\n",
       "9765        VASTCSELM\n",
       "9765        ESIAEVTKL\n",
       "9765        MEAMKAQLL\n",
       "9765        YNVINQFVW\n",
       "9765        LPLQPRSPV\n",
       "9765        ASECPSLRM\n",
       "9765        SRHQKKDSL\n",
       "9765        YLVQHEQLL\n",
       "9765        LTNQLTTKI\n",
       "9765        VSHWRVQPL\n",
       "9765        LTTHERFIL\n",
       "9765        YTTPDIGHY\n",
       "9765        IPKPTAAAI\n",
       "9765        ITSSVEHDF\n",
       "9765        LLISCIFSF\n",
       "9765        MAAYDQTQY\n",
       "9765        QIMESFLTY\n",
       "9765        HAVFALRAW\n",
       "9765        ISLFDFVIY\n",
       "9765        LTRHWVWQY\n",
       "9765        QTYFITLSL\n",
       "9765        RRRKFSRTV\n",
       "9765        NPRPEKVVI\n",
       "9765        KTKRAKRFF\n",
       "9765        SPSQMKAFI\n",
       "9765        HPRVHTGEW\n",
       "9765        KAYLYHLST\n",
       "9765        YRTWKLHMM\n",
       "9765        HRNLKPENL\n",
       "9765        VTRKKPPVI\n",
       "\n",
       "[6109 rows x 1 columns]"
      ]
     },
     "execution_count": 50,
     "metadata": {},
     "output_type": "execute_result"
    }
   ],
   "source": [
    "pd.concat(df_neog).reset_index(drop=True)"
   ]
  },
  {
   "cell_type": "code",
   "execution_count": 7,
   "metadata": {
    "collapsed": false,
    "scrolled": true
   },
   "outputs": [
    {
     "data": {
      "text/plain": [
       "Index([u'CHROM', u'POS', u'REF', u'ALT', u'SNPEFF_GENE_NAME', u'Sample',\n",
       "       u'Caller', u'Ncov', u'Tcov', u'Naf', u'Taf', u'ID', u'SNPEFF_IMPACT',\n",
       "       u'SNPEFF_EFFECT', u'SNPEFF_FUNCTIONAL_CLASS', u'SNPEFF_CODON_CHANGE',\n",
       "       u'SNPEFF_AMINO_ACID_CHANGE', u'SNPEFF_TRANSCRIPT_ID', u'SNPEFF_EXON_ID',\n",
       "       u'COSMIC', u'dbNSFP_SIFT_score', u'dbNSFP_SIFT_pred',\n",
       "       u'dbNSFP_Polyphen2_HVAR_pred', u'dbNSFP_GERP.._RS',\n",
       "       u'dbNSFP_MutationAssessor_pred', u'dbNSFP_MetaSVM_pred',\n",
       "       u'dbNSFP_MetaLR_pred', u'PUTATIVE_PROMOTER', u'CpG', u'IMPRINTED_GENE',\n",
       "       u'FORMAT', u'NORMAL', u'TUMOR', u'Class', u'NumOfCallers', u'Filter',\n",
       "       u'ToManualCheck', u'IGV', u'IGV_TXT', u'Final', u'AAChange', u'RefAA',\n",
       "       u'AltAA', u'CHASM_VARIANT_DRIVER_SCORE', u'TypeOfVar', u'Batch',\n",
       "       u'pMutSig', u'qMutSig', u'minusLog10p', u'minusLog10q', u'NameInPaper',\n",
       "       u'SampleAlias', u'RespType', u'HLA', u'Update', u'Sum',\n",
       "       u'FreqGeneInHowManySamples', u'FreqSample', u'FreqGene',\n",
       "       u'FreqGeneInSample', u'Recurrent_mutation', u'patient_id',\n",
       "       u'sample_number'],\n",
       "      dtype='object')"
      ]
     },
     "execution_count": 7,
     "metadata": {},
     "output_type": "execute_result"
    }
   ],
   "source": [
    "mel.load_four_caller_mutations().columns"
   ]
  },
  {
   "cell_type": "code",
   "execution_count": null,
   "metadata": {
    "collapsed": true
   },
   "outputs": [],
   "source": []
  }
 ],
 "metadata": {
  "kernelspec": {
   "display_name": "Python 2",
   "language": "python",
   "name": "python2"
  },
  "language_info": {
   "codemirror_mode": {
    "name": "ipython",
    "version": 2
   },
   "file_extension": ".py",
   "mimetype": "text/x-python",
   "name": "python",
   "nbconvert_exporter": "python",
   "pygments_lexer": "ipython2",
   "version": "2.7.11"
  }
 },
 "nbformat": 4,
 "nbformat_minor": 1
}

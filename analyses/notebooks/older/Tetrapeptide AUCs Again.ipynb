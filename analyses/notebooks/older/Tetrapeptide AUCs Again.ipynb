{
 "cells": [
  {
   "cell_type": "code",
   "execution_count": 1,
   "metadata": {
    "collapsed": false
   },
   "outputs": [],
   "source": [
    "%load_ext autoreload\n",
    "%autoreload 2\n",
    "\n",
    "import sys \n",
    "from os import getcwd, path, environ\n",
    "sys.path.append(path.dirname(getcwd()))\n",
    "import matplotlib.pyplot as plt\n",
    "import seaborn as sb\n",
    "import pandas as pd\n",
    "%matplotlib inline"
   ]
  },
  {
   "cell_type": "code",
   "execution_count": 2,
   "metadata": {
    "collapsed": false
   },
   "outputs": [
    {
     "name": "stderr",
     "output_type": "stream",
     "text": [
      "/home/tavi/miniconda2/lib/python2.7/site-packages/sklearn/cross_validation.py:44: DeprecationWarning: This module was deprecated in version 0.18 in favor of the model_selection module into which all the refactored classes and functions are moved. Also note that the interface of the new CV iterators are different from that of this module. This module will be removed in 0.20.\n",
      "  \"This module will be removed in 0.20.\", DeprecationWarning)\n",
      "/home/tavi/miniconda2/lib/python2.7/site-packages/sklearn/grid_search.py:43: DeprecationWarning: This module was deprecated in version 0.18 in favor of the model_selection module into which all the refactored classes and functions are moved. This module will be removed in 0.20.\n",
      "  DeprecationWarning)\n"
     ]
    }
   ],
   "source": [
    "from utils import data\n",
    "from utils.aucs import run_tetrapeptides"
   ]
  },
  {
   "cell_type": "code",
   "execution_count": 3,
   "metadata": {
    "collapsed": true
   },
   "outputs": [],
   "source": [
    "from multiprocessing import Process"
   ]
  },
  {
   "cell_type": "code",
   "execution_count": null,
   "metadata": {
    "collapsed": false
   },
   "outputs": [
    {
     "name": "stdout",
     "output_type": "stream",
     "text": [
      "{'dataframe_hash': -1756190467427032844,\n",
      " 'provenance_file_summary': {u'cohorts': u'0.4.2+1.g1b8048a.dirty',\n",
      "                             u'isovar': u'0.0.6',\n",
      "                             u'mhctools': u'0.4.0',\n",
      "                             u'numpy': u'1.11.2',\n",
      "                             u'pandas': u'0.19.1',\n",
      "                             u'pyensembl': u'1.0.3',\n",
      "                             u'scipy': u'0.18.1',\n",
      "                             u'topiary': u'0.1.0',\n",
      "                             u'varcode': u'0.5.10'}}\n",
      "Using saved IEDB data at /home/tavi/melanoma-reanalysis/data/iedb_tcell_data_6_10_15.csv\n",
      "Filtering on homo sap (col Epitope Source Organism Name): 161844 to 147504 elements\n",
      "Filtering on allergen (col Epitope Source Molecule Name): 147504 to 132235 elements\n",
      "Filtering on tuberculosis (col Epitope Source Organism Name): 132235 to 106516 elements\n",
      "Len processes: 0\n",
      "Len processes post pop: 0\n",
      "Len processes: 1\n",
      "Len processes post pop: 1\n",
      "Len processes: 2\n",
      "Len processes post pop: 2\n",
      "Len processes: 3\n",
      "Len processes post pop: 3\n",
      "Len processes: 4\n",
      "Len processes post pop: 4\n",
      "Len processes: 5\n",
      "Len processes post pop: 5\n",
      "Len processes: 6\n",
      "Len processes post pop: 6\n",
      "Len processes: 7\n",
      "Len processes post pop: 7\n",
      "Len processes: 8\n",
      "Len processes post pop: 8\n",
      "Len processes: 9\n",
      "Len processes post pop: 9\n",
      "Len processes: 10\n",
      "Len processes post pop: 10\n",
      "Len processes: 11\n",
      "Len processes post pop: 11\n",
      "Len processes: 12\n",
      "Len processes post pop: 12\n",
      "Len processes: 13\n",
      "Len processes post pop: 13\n",
      "Len processes: 14\n",
      "Len processes post pop: 14\n",
      "Len processes: 15\n",
      "Len processes post pop: 15\n",
      "Len processes: 16\n",
      "Len processes post pop: 16\n",
      "Len processes: 17\n",
      "Len processes post pop: 17\n",
      "Len processes: 18\n",
      "Len processes post pop: 18\n",
      "Len processes: 19\n",
      "Len processes post pop: 19\n",
      "Len processes: 20\n",
      "Len processes post pop: 20\n",
      "Len processes: 21\n",
      "Len processes post pop: 21\n",
      "Len processes: 22\n",
      "Len processes post pop: 22\n",
      "Len processes: 23\n",
      "Len processes post pop: 23\n",
      "Len processes: 24\n",
      "Len processes post pop: 24\n",
      "Len processes: 25\n",
      "Len processes post pop: 25\n",
      "Len processes: 26\n",
      "Len processes post pop: 26\n",
      "Len processes: 27\n",
      "Len processes post pop: 27\n",
      "Len processes: 28\n",
      "Len processes post pop: 28\n",
      "Len processes: 29\n",
      "Len processes post pop: 29\n",
      "Len processes: 30\n",
      "Pop 0!\n",
      "Len processes post pop: 29\n",
      "Len processes: 30\n",
      "Pop 1!\n",
      "Len processes post pop: 29\n",
      "Len processes: 30\n",
      "Pop 2!\n"
     ]
    }
   ],
   "source": [
    "run_tetrapeptides(nejm=True, count=False)"
   ]
  },
  {
   "cell_type": "code",
   "execution_count": null,
   "metadata": {
    "collapsed": false
   },
   "outputs": [],
   "source": [
    "run_tetrapeptides(nejm=True, count=True)"
   ]
  },
  {
   "cell_type": "code",
   "execution_count": null,
   "metadata": {
    "collapsed": true
   },
   "outputs": [],
   "source": [
    "run_tetrapeptides(nejm=False, count=False)"
   ]
  },
  {
   "cell_type": "code",
   "execution_count": null,
   "metadata": {
    "collapsed": true
   },
   "outputs": [],
   "source": [
    "run_tetrapeptides(nejm=False, count=True)"
   ]
  }
 ],
 "metadata": {
  "kernelspec": {
   "display_name": "Python 2",
   "language": "python",
   "name": "python2"
  },
  "language_info": {
   "codemirror_mode": {
    "name": "ipython",
    "version": 2
   },
   "file_extension": ".py",
   "mimetype": "text/x-python",
   "name": "python",
   "nbconvert_exporter": "python",
   "pygments_lexer": "ipython2",
   "version": "2.7.11"
  }
 },
 "nbformat": 4,
 "nbformat_minor": 0
}

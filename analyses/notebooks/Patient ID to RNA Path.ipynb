{
 "cells": [
  {
   "cell_type": "code",
   "execution_count": 1,
   "metadata": {
    "collapsed": true
   },
   "outputs": [],
   "source": [
    "%load_ext autoreload\n",
    "%autoreload 2\n",
    "\n",
    "import sys \n",
    "from os import getcwd, path, environ\n",
    "sys.path.append(path.dirname(getcwd()))\n",
    "import matplotlib.pyplot as plt\n",
    "import seaborn as sb\n",
    "import pandas as pd\n",
    "%matplotlib inline"
   ]
  },
  {
   "cell_type": "code",
   "execution_count": 2,
   "metadata": {
    "collapsed": true
   },
   "outputs": [],
   "source": [
    "from utils import data\n",
    "from utils.functions import *\n",
    "from cohorts.rounding import float_str"
   ]
  },
  {
   "cell_type": "code",
   "execution_count": 3,
   "metadata": {
    "collapsed": false
   },
   "outputs": [
    {
     "name": "stderr",
     "output_type": "stream",
     "text": [
      "/home/tavi/cohorts/cohorts/provenance.py:65: Warning: In current but not comparison: [u'cohorts==0.4.2+4.g557e83e.dirty']In comparison but not current: [u'cohorts==0.4.2+1.g1b8048a.dirty']\n",
      "  warnings.warn(warn_str, Warning)\n"
     ]
    },
    {
     "name": "stdout",
     "output_type": "stream",
     "text": [
      "{'dataframe_hash': -1756190467427032844,\n",
      " 'provenance_file_summary': {u'cohorts': u'0.4.2+1.g1b8048a.dirty',\n",
      "                             u'isovar': u'0.0.6',\n",
      "                             u'mhctools': u'0.4.0',\n",
      "                             u'numpy': u'1.11.2',\n",
      "                             u'pandas': u'0.19.1',\n",
      "                             u'pyensembl': u'1.0.3',\n",
      "                             u'scipy': u'0.18.1',\n",
      "                             u'topiary': u'0.1.0',\n",
      "                             u'varcode': u'0.5.10'}}\n"
     ]
    }
   ],
   "source": [
    "cohort = data.init_cohort()"
   ]
  },
  {
   "cell_type": "code",
   "execution_count": 55,
   "metadata": {
    "collapsed": false
   },
   "outputs": [
    {
     "data": {
      "text/plain": [
       "64"
      ]
     },
     "execution_count": 55,
     "metadata": {},
     "output_type": "execute_result"
    }
   ],
   "source": [
    "len(cohort)"
   ]
  },
  {
   "cell_type": "code",
   "execution_count": 17,
   "metadata": {
    "collapsed": false
   },
   "outputs": [],
   "source": [
    "df_dict = {\"patient_id\": [], \"path\": []}\n",
    "for patient in cohort:\n",
    "    if patient.tumor_sample is not None:\n",
    "        df_dict[\"patient_id\"].append(patient.id)\n",
    "        df_dict[\"path\"].append(patient.tumor_sample.bam_path_rna.split(\"bams/\")[1].split(\"/Sample\")[0])"
   ]
  },
  {
   "cell_type": "code",
   "execution_count": 18,
   "metadata": {
    "collapsed": true
   },
   "outputs": [],
   "source": [
    "df = pd.DataFrame(df_dict)"
   ]
  },
  {
   "cell_type": "code",
   "execution_count": 20,
   "metadata": {
    "collapsed": false
   },
   "outputs": [],
   "source": [
    "df.to_csv(\"id_to_rna_path.csv\", index=None)"
   ]
  },
  {
   "cell_type": "code",
   "execution_count": 23,
   "metadata": {
    "collapsed": false
   },
   "outputs": [
    {
     "data": {
      "text/html": [
       "<div>\n",
       "<table border=\"1\" class=\"dataframe\">\n",
       "  <thead>\n",
       "    <tr style=\"text-align: right;\">\n",
       "      <th></th>\n",
       "      <th>path</th>\n",
       "      <th>patient_id</th>\n",
       "    </tr>\n",
       "  </thead>\n",
       "  <tbody>\n",
       "    <tr>\n",
       "      <th>14</th>\n",
       "      <td>Sample_SK_MEL_301T-Sample_SK_MEL_301T</td>\n",
       "      <td>4949</td>\n",
       "    </tr>\n",
       "    <tr>\n",
       "      <th>7</th>\n",
       "      <td>Sample_SK_MEL_311AT-Sample_SK_MEL_311AT</td>\n",
       "      <td>2051</td>\n",
       "    </tr>\n",
       "    <tr>\n",
       "      <th>8</th>\n",
       "      <td>Sample_SK_MEL_321AT-Sample_SK_MEL_321AT</td>\n",
       "      <td>5038</td>\n",
       "    </tr>\n",
       "    <tr>\n",
       "      <th>15</th>\n",
       "      <td>Sample_SK_MEL_337T-Sample_SK_MEL_337T</td>\n",
       "      <td>1867</td>\n",
       "    </tr>\n",
       "    <tr>\n",
       "      <th>6</th>\n",
       "      <td>Sample_SK_MEL_351T-Sample_SK_MEL_351T</td>\n",
       "      <td>2056</td>\n",
       "    </tr>\n",
       "    <tr>\n",
       "      <th>2</th>\n",
       "      <td>Sample_SK_MEL_363T-Sample_SK_MEL_363T</td>\n",
       "      <td>9699</td>\n",
       "    </tr>\n",
       "    <tr>\n",
       "      <th>16</th>\n",
       "      <td>Sample_SK_MEL_381T-Sample_SK_MEL_381T</td>\n",
       "      <td>3549</td>\n",
       "    </tr>\n",
       "    <tr>\n",
       "      <th>18</th>\n",
       "      <td>Sample_SK_MEL_389-Sample_SK_MEL_389</td>\n",
       "      <td>6126</td>\n",
       "    </tr>\n",
       "    <tr>\n",
       "      <th>12</th>\n",
       "      <td>Sample_SK_MEL_394T-Sample_SK_MEL_394T</td>\n",
       "      <td>5784</td>\n",
       "    </tr>\n",
       "    <tr>\n",
       "      <th>9</th>\n",
       "      <td>Sample_SK_MEL_398T-Sample_SK_MEL_398T</td>\n",
       "      <td>5118</td>\n",
       "    </tr>\n",
       "    <tr>\n",
       "      <th>13</th>\n",
       "      <td>Sample_SK_MEL_430T-Sample_SK_MEL_430T</td>\n",
       "      <td>8727</td>\n",
       "    </tr>\n",
       "    <tr>\n",
       "      <th>1</th>\n",
       "      <td>Sample_SK_MEL_445T-Sample_SK_MEL_445T</td>\n",
       "      <td>7623</td>\n",
       "    </tr>\n",
       "    <tr>\n",
       "      <th>3</th>\n",
       "      <td>Sample_SK_MEL_455T-Sample_SK_MEL_455T</td>\n",
       "      <td>0346</td>\n",
       "    </tr>\n",
       "    <tr>\n",
       "      <th>19</th>\n",
       "      <td>Sample_SK_MEL_499-Sample_SK_MEL_499</td>\n",
       "      <td>0167</td>\n",
       "    </tr>\n",
       "    <tr>\n",
       "      <th>17</th>\n",
       "      <td>Sample_SK_MEL_526T-Sample_SK_MEL_526T</td>\n",
       "      <td>4810</td>\n",
       "    </tr>\n",
       "    <tr>\n",
       "      <th>5</th>\n",
       "      <td>Sample_SK_MEL_539T-Sample_SK_MEL_539T</td>\n",
       "      <td>1494</td>\n",
       "    </tr>\n",
       "    <tr>\n",
       "      <th>20</th>\n",
       "      <td>Sample_SK_MEL_540-Sample_SK_MEL_540</td>\n",
       "      <td>4631</td>\n",
       "    </tr>\n",
       "    <tr>\n",
       "      <th>0</th>\n",
       "      <td>Sample_SK_MEL_551AT-Sample_SK_MEL_551AT</td>\n",
       "      <td>1509</td>\n",
       "    </tr>\n",
       "    <tr>\n",
       "      <th>10</th>\n",
       "      <td>Sample_SK_MEL_560_2T-Sample_SK_MEL_560_2T</td>\n",
       "      <td>6494</td>\n",
       "    </tr>\n",
       "    <tr>\n",
       "      <th>22</th>\n",
       "      <td>Sample_SK_MEL_566_1-Sample_SK_MEL_566_1</td>\n",
       "      <td>9521</td>\n",
       "    </tr>\n",
       "    <tr>\n",
       "      <th>21</th>\n",
       "      <td>Sample_SK_MEL_574-Sample_SK_MEL_574</td>\n",
       "      <td>9449</td>\n",
       "    </tr>\n",
       "    <tr>\n",
       "      <th>11</th>\n",
       "      <td>Sample_SK_MEL_581_1T-Sample_SK_MEL_581_1T</td>\n",
       "      <td>7357</td>\n",
       "    </tr>\n",
       "    <tr>\n",
       "      <th>4</th>\n",
       "      <td>Sample_SK_MEL_598_1T-Sample_SK_MEL_598_1T</td>\n",
       "      <td>6336</td>\n",
       "    </tr>\n",
       "    <tr>\n",
       "      <th>23</th>\n",
       "      <td>Sample_SK_MEL_641_1-Sample_SK_MEL_641_1</td>\n",
       "      <td>9705</td>\n",
       "    </tr>\n",
       "  </tbody>\n",
       "</table>\n",
       "</div>"
      ],
      "text/plain": [
       "                                         path patient_id\n",
       "14      Sample_SK_MEL_301T-Sample_SK_MEL_301T       4949\n",
       "7     Sample_SK_MEL_311AT-Sample_SK_MEL_311AT       2051\n",
       "8     Sample_SK_MEL_321AT-Sample_SK_MEL_321AT       5038\n",
       "15      Sample_SK_MEL_337T-Sample_SK_MEL_337T       1867\n",
       "6       Sample_SK_MEL_351T-Sample_SK_MEL_351T       2056\n",
       "2       Sample_SK_MEL_363T-Sample_SK_MEL_363T       9699\n",
       "16      Sample_SK_MEL_381T-Sample_SK_MEL_381T       3549\n",
       "18        Sample_SK_MEL_389-Sample_SK_MEL_389       6126\n",
       "12      Sample_SK_MEL_394T-Sample_SK_MEL_394T       5784\n",
       "9       Sample_SK_MEL_398T-Sample_SK_MEL_398T       5118\n",
       "13      Sample_SK_MEL_430T-Sample_SK_MEL_430T       8727\n",
       "1       Sample_SK_MEL_445T-Sample_SK_MEL_445T       7623\n",
       "3       Sample_SK_MEL_455T-Sample_SK_MEL_455T       0346\n",
       "19        Sample_SK_MEL_499-Sample_SK_MEL_499       0167\n",
       "17      Sample_SK_MEL_526T-Sample_SK_MEL_526T       4810\n",
       "5       Sample_SK_MEL_539T-Sample_SK_MEL_539T       1494\n",
       "20        Sample_SK_MEL_540-Sample_SK_MEL_540       4631\n",
       "0     Sample_SK_MEL_551AT-Sample_SK_MEL_551AT       1509\n",
       "10  Sample_SK_MEL_560_2T-Sample_SK_MEL_560_2T       6494\n",
       "22    Sample_SK_MEL_566_1-Sample_SK_MEL_566_1       9521\n",
       "21        Sample_SK_MEL_574-Sample_SK_MEL_574       9449\n",
       "11  Sample_SK_MEL_581_1T-Sample_SK_MEL_581_1T       7357\n",
       "4   Sample_SK_MEL_598_1T-Sample_SK_MEL_598_1T       6336\n",
       "23    Sample_SK_MEL_641_1-Sample_SK_MEL_641_1       9705"
      ]
     },
     "execution_count": 23,
     "metadata": {},
     "output_type": "execute_result"
    }
   ],
   "source": [
    "df.sort_values(by=\"path\")"
   ]
  },
  {
   "cell_type": "code",
   "execution_count": 49,
   "metadata": {
    "collapsed": true
   },
   "outputs": [],
   "source": [
    "gcp_contents = \"\"\"gs://melanoma-cir-rna-bams/Sample_SK_MEL_301T-Sample_SK_MEL_301T/\n",
    "gs://melanoma-cir-rna-bams/Sample_SK_MEL_311AT-Sample_SK_MEL_311AT/\n",
    "gs://melanoma-cir-rna-bams/Sample_SK_MEL_321AT-Sample_SK_MEL_321AT/\n",
    "gs://melanoma-cir-rna-bams/Sample_SK_MEL_337T-Sample_SK_MEL_337T/\n",
    "gs://melanoma-cir-rna-bams/Sample_SK_MEL_351T-Sample_SK_MEL_351T/\n",
    "gs://melanoma-cir-rna-bams/Sample_SK_MEL_363T-Sample_SK_MEL_363T/\n",
    "gs://melanoma-cir-rna-bams/Sample_SK_MEL_381T-Sample_SK_MEL_381T/\n",
    "gs://melanoma-cir-rna-bams/Sample_SK_MEL_389-Sample_SK_MEL_389/\n",
    "gs://melanoma-cir-rna-bams/Sample_SK_MEL_394T-Sample_SK_MEL_394T/\n",
    "gs://melanoma-cir-rna-bams/Sample_SK_MEL_398T-Sample_SK_MEL_398T/\n",
    "gs://melanoma-cir-rna-bams/Sample_SK_MEL_430T-Sample_SK_MEL_430T/\n",
    "gs://melanoma-cir-rna-bams/Sample_SK_MEL_432T-Sample_SK_MEL_432T/\n",
    "gs://melanoma-cir-rna-bams/Sample_SK_MEL_445T-Sample_SK_MEL_445T/\n",
    "gs://melanoma-cir-rna-bams/Sample_SK_MEL_455T-Sample_SK_MEL_455T/\n",
    "gs://melanoma-cir-rna-bams/Sample_SK_MEL_496T-Sample_SK_MEL_496T/\n",
    "gs://melanoma-cir-rna-bams/Sample_SK_MEL_499-Sample_SK_MEL_499/\n",
    "gs://melanoma-cir-rna-bams/Sample_SK_MEL_526T-Sample_SK_MEL_526T/\n",
    "gs://melanoma-cir-rna-bams/Sample_SK_MEL_539T-Sample_SK_MEL_539T/\n",
    "gs://melanoma-cir-rna-bams/Sample_SK_MEL_540-Sample_SK_MEL_540/\n",
    "gs://melanoma-cir-rna-bams/Sample_SK_MEL_545T-Sample_SK_MEL_545T/\n",
    "gs://melanoma-cir-rna-bams/Sample_SK_MEL_551AT-Sample_SK_MEL_551AT/\n",
    "gs://melanoma-cir-rna-bams/Sample_SK_MEL_560_1T-Sample_SK_MEL_560_1T/\n",
    "gs://melanoma-cir-rna-bams/Sample_SK_MEL_560_2T-Sample_SK_MEL_560_2T/\n",
    "gs://melanoma-cir-rna-bams/Sample_SK_MEL_566_1-Sample_SK_MEL_566_1/\n",
    "gs://melanoma-cir-rna-bams/Sample_SK_MEL_574-Sample_SK_MEL_574/\n",
    "gs://melanoma-cir-rna-bams/Sample_SK_MEL_581_1T-Sample_SK_MEL_581_1T/\n",
    "gs://melanoma-cir-rna-bams/Sample_SK_MEL_581_2T-Sample_SK_MEL_581_2T/\n",
    "gs://melanoma-cir-rna-bams/Sample_SK_MEL_598_1T-Sample_SK_MEL_598_1T/\n",
    "gs://melanoma-cir-rna-bams/Sample_SK_MEL_598_2T-Sample_SK_MEL_598_2T/\n",
    "gs://melanoma-cir-rna-bams/Sample_SK_MEL_641_1-Sample_SK_MEL_641_1/\"\"\""
   ]
  },
  {
   "cell_type": "code",
   "execution_count": 50,
   "metadata": {
    "collapsed": false
   },
   "outputs": [],
   "source": [
    "gcp_paths = gcp_contents.split(\"\\n\")\n",
    "gcp_paths = [gcp_path.split(\"bams/\")[1].split(\"/\")[0] for gcp_path in gcp_paths]"
   ]
  },
  {
   "cell_type": "code",
   "execution_count": 51,
   "metadata": {
    "collapsed": false
   },
   "outputs": [
    {
     "data": {
      "text/plain": [
       "30"
      ]
     },
     "execution_count": 51,
     "metadata": {},
     "output_type": "execute_result"
    }
   ],
   "source": [
    "len(gcp_paths)"
   ]
  },
  {
   "cell_type": "code",
   "execution_count": 32,
   "metadata": {
    "collapsed": false
   },
   "outputs": [],
   "source": [
    "to_delete = set(gcp_paths).difference(set(df.path.unique()))"
   ]
  },
  {
   "cell_type": "code",
   "execution_count": 34,
   "metadata": {
    "collapsed": true
   },
   "outputs": [],
   "source": [
    "# Remove these from BAMs we give to others"
   ]
  },
  {
   "cell_type": "code",
   "execution_count": 36,
   "metadata": {
    "collapsed": false
   },
   "outputs": [
    {
     "data": {
      "text/plain": [
       "{'Sample_SK_MEL_432T-Sample_SK_MEL_432T',\n",
       " 'Sample_SK_MEL_496T-Sample_SK_MEL_496T',\n",
       " 'Sample_SK_MEL_545T-Sample_SK_MEL_545T',\n",
       " 'Sample_SK_MEL_560_1T-Sample_SK_MEL_560_1T',\n",
       " 'Sample_SK_MEL_581_2T-Sample_SK_MEL_581_2T',\n",
       " 'Sample_SK_MEL_598_2T-Sample_SK_MEL_598_2T'}"
      ]
     },
     "execution_count": 36,
     "metadata": {},
     "output_type": "execute_result"
    }
   ],
   "source": [
    "to_delete"
   ]
  },
  {
   "cell_type": "code",
   "execution_count": 56,
   "metadata": {
    "collapsed": false
   },
   "outputs": [
    {
     "name": "stdout",
     "output_type": "stream",
     "text": [
      "gsutil -m rm -rf gs://melanoma-cir-rna-bams/Sample_SK_MEL_598_2T-Sample_SK_MEL_598_2T\n",
      "gsutil -m rm -rf gs://melanoma-cir-rna-bams/Sample_SK_MEL_545T-Sample_SK_MEL_545T\n",
      "gsutil -m rm -rf gs://melanoma-cir-rna-bams/Sample_SK_MEL_581_2T-Sample_SK_MEL_581_2T\n",
      "gsutil -m rm -rf gs://melanoma-cir-rna-bams/Sample_SK_MEL_432T-Sample_SK_MEL_432T\n",
      "gsutil -m rm -rf gs://melanoma-cir-rna-bams/Sample_SK_MEL_496T-Sample_SK_MEL_496T\n",
      "gsutil -m rm -rf gs://melanoma-cir-rna-bams/Sample_SK_MEL_560_1T-Sample_SK_MEL_560_1T\n"
     ]
    }
   ],
   "source": [
    "for filename in to_delete:\n",
    "    print(\"gsutil -m rm -rf gs://melanoma-cir-rna-bams/%s\" % filename)"
   ]
  },
  {
   "cell_type": "code",
   "execution_count": null,
   "metadata": {
    "collapsed": true
   },
   "outputs": [],
   "source": []
  }
 ],
 "metadata": {
  "kernelspec": {
   "display_name": "Python 2",
   "language": "python",
   "name": "python2"
  },
  "language_info": {
   "codemirror_mode": {
    "name": "ipython",
    "version": 2
   },
   "file_extension": ".py",
   "mimetype": "text/x-python",
   "name": "python",
   "nbconvert_exporter": "python",
   "pygments_lexer": "ipython2",
   "version": "2.7.11"
  }
 },
 "nbformat": 4,
 "nbformat_minor": 1
}
